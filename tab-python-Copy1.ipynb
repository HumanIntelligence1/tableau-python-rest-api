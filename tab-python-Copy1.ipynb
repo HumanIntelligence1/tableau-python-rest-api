{
 "cells": [
  {
   "cell_type": "code",
   "execution_count": 73,
   "id": "c9415db6",
   "metadata": {},
   "outputs": [],
   "source": [
    "# !pip install tableauserverclient\n",
    "# !pip install tableauserverclient\n",
    "# pip install tableauserverclient --upgrade"
   ]
  },
  {
   "cell_type": "code",
   "execution_count": 42,
   "id": "615521f5",
   "metadata": {},
   "outputs": [],
   "source": [
    "import tableauserverclient as TSC\n",
    "import pandas as pd"
   ]
  },
  {
   "cell_type": "code",
   "execution_count": 33,
   "id": "53893de4",
   "metadata": {},
   "outputs": [],
   "source": [
    "USERNAME = 'abc@abcgmail.com'\n",
    "PASSWORD = 'Tableau'\n",
    "SITENAME = 'abcabc'\n",
    "server_url = 'https://10-a.online.tableau.com/'\n",
    "mytoken_name ='aaa'\n",
    "mytoken_secret = 'cLloeeVnR05555555555:i0HX45B7KNBHXgXsqt14kB4PYDburZeo'"
   ]
  },
  {
   "cell_type": "code",
   "execution_count": 38,
   "id": "c9ca0a23",
   "metadata": {},
   "outputs": [
    {
     "name": "stdout",
     "output_type": "stream",
     "text": [
      "[Logged in successfully to https://prod-apnortheast-a.online.tableau.com/]\n"
     ]
    }
   ],
   "source": [
    "with server.auth.sign_in_with_personal_access_token(tableau_auth):\n",
    "        print('[Logged in successfully to {}]'.format(server_url))"
   ]
  },
  {
   "cell_type": "code",
   "execution_count": 39,
   "id": "a3c781f7",
   "metadata": {},
   "outputs": [
    {
     "data": {
      "text/plain": [
       "'3.17'"
      ]
     },
     "execution_count": 39,
     "metadata": {},
     "output_type": "execute_result"
    }
   ],
   "source": [
    "server.version"
   ]
  },
  {
   "cell_type": "code",
   "execution_count": null,
   "id": "c7b20fe7",
   "metadata": {},
   "outputs": [],
   "source": [
    "with server.auth.sign_in(tableau_auth):\n",
    "    print('[Logged in successfully to {}]'.format(server_url))"
   ]
  },
  {
   "cell_type": "code",
   "execution_count": 4,
   "id": "64f1d26b",
   "metadata": {},
   "outputs": [],
   "source": [
    "# with server.auth.sign_in(tableau_auth):\n",
    "with server.auth.sign_in_with_personal_access_token(tableau_auth):\n",
    "\n",
    "    all_users, pagination_item = server.users.get()\n",
    "    user_id = '9f4cf327-a5ba-44a1-83ff-f5814560a108'\n",
    "    all_users.remove(user_id)\n",
    "    \n",
    "    print(all_users)\n"
   ]
  },
  {
   "cell_type": "raw",
   "id": "99d11a8b",
   "metadata": {},
   "source": [
    "# [<User 11d072b8-b04c-4e71-8151-54b115a17f92 name=abc@abcgmail.com role=SiteAdministratorCreator>, <User 048fdd82-c012-43b3-8bc8-c6e87707c95a name=bbb@bbb.bb role=Explorer>, <User 19802fb5-9f0e-4789-9178-6a1f880a1d87 name=a.aa@aa.com role=Viewer>]"
   ]
  },
  {
   "cell_type": "code",
   "execution_count": 1,
   "id": "5bd6de98",
   "metadata": {},
   "outputs": [],
   "source": [
    "# with server.auth.sign_in(tableau_auth):\n",
    "with server.auth.sign_in_with_personal_access_token(tableau_auth):\n",
    "    user1 = TSC.UserItem('a.aa@aa.com', 'Viewer')\n",
    "\n",
    "  # add new user\n",
    "    user1 = server.users.add(user1)\n",
    "#     print(user1.name, user1.site_role, user1.id)\n",
    "    print(\"user1\",user1)"
   ]
  },
  {
   "cell_type": "code",
   "execution_count": null,
   "id": "6f6d62c5",
   "metadata": {},
   "outputs": [],
   "source": [
    "# with server.auth.sign_in(tableau_auth):\n",
    "with server.auth.sign_in_with_personal_access_token(tableau_auth):\n",
    "\n",
    "    all_users, pagination_item = server.users.get()\n",
    "#     print(\"\\nThere are {} user on site: \".format(pagination_item.total_available))\n",
    "#     print([user for user in all_users])\n",
    "#     for user in all_users:\n",
    "#         print(user)"
   ]
  },
  {
   "cell_type": "code",
   "execution_count": 71,
   "id": "24126b6a",
   "metadata": {},
   "outputs": [
    {
     "name": "stdout",
     "output_type": "stream",
     "text": [
      "\n",
      "There are 1 datasources on site: \n",
      "['Superstore Datasource']\n"
     ]
    }
   ],
   "source": [
    "with server.auth.sign_in(tableau_auth):\n",
    "    all_datasources, pagination_item = server.datasources.get()\n",
    "    print(\"\\nThere are {} datasources on site: \".format(pagination_item.total_available))\n",
    "    print([datasource.name for datasource in all_datasources])"
   ]
  },
  {
   "cell_type": "code",
   "execution_count": 5,
   "id": "c4a17165",
   "metadata": {},
   "outputs": [],
   "source": [
    "import pandas as pd\n",
    "df = pd.read_csv(\"restapi_add.csv\")\n",
    "all_values = df.values.tolist()\n"
   ]
  },
  {
   "cell_type": "code",
   "execution_count": 6,
   "id": "0cef8877",
   "metadata": {},
   "outputs": [
    {
     "name": "stdout",
     "output_type": "stream",
     "text": [
      "a1@mmail.com Viewer\n",
      "a2@mmail.com Viewer\n",
      "a3@mmail.com Viewer\n",
      "a4@mmail.com Viewer\n",
      "a5@mmail.com Viewer\n"
     ]
    }
   ],
   "source": [
    "for user in all_values:\n",
    "    print(user[0],user[1])"
   ]
  },
  {
   "cell_type": "code",
   "execution_count": 61,
   "id": "a486cbe7",
   "metadata": {},
   "outputs": [],
   "source": [
    "with server.auth.sign_in_with_personal_access_token(tableau_auth):\n",
    "    df = pd.read_csv(\"restapi_add.csv\")\n",
    "    all_values = df.values.tolist()\n",
    "    for user in all_values:\n",
    "        u0 = str(user[0])\n",
    "        u1 = str(user[1])\n",
    "        user1 = TSC.UserItem(u0,u1)\n",
    "        user1 = server.users.add(user1)\n",
    "\n",
    "    "
   ]
  },
  {
   "cell_type": "code",
   "execution_count": null,
   "id": "b4cb5daf",
   "metadata": {},
   "outputs": [],
   "source": []
  }
 ],
 "metadata": {
  "kernelspec": {
   "display_name": "Python 3",
   "language": "python",
   "name": "python3"
  },
  "language_info": {
   "codemirror_mode": {
    "name": "ipython",
    "version": 3
   },
   "file_extension": ".py",
   "mimetype": "text/x-python",
   "name": "python",
   "nbconvert_exporter": "python",
   "pygments_lexer": "ipython3",
   "version": "3.7.10"
  }
 },
 "nbformat": 4,
 "nbformat_minor": 5
}
